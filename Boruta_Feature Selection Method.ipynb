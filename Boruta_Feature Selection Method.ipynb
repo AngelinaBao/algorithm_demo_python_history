{
 "cells": [
  {
   "cell_type": "markdown",
   "metadata": {},
   "source": [
    "## 1. It all starts with X and y"
   ]
  },
  {
   "cell_type": "code",
   "execution_count": 47,
   "metadata": {},
   "outputs": [],
   "source": [
    "import pandas as pd\n",
    "\n",
    "X = pd.DataFrame({'age': [25, 32, 47, 51, 62],\n",
    "                 'height': [182, 176, 174, 168, 181],\n",
    "                 'weight': [75, 71, 78,72, 86]})\n",
    "y = pd.Series([20, 32, 45, 55, 61], name='income')"
   ]
  },
  {
   "cell_type": "code",
   "execution_count": 3,
   "metadata": {},
   "outputs": [
    {
     "data": {
      "text/html": [
       "<div>\n",
       "<style scoped>\n",
       "    .dataframe tbody tr th:only-of-type {\n",
       "        vertical-align: middle;\n",
       "    }\n",
       "\n",
       "    .dataframe tbody tr th {\n",
       "        vertical-align: top;\n",
       "    }\n",
       "\n",
       "    .dataframe thead th {\n",
       "        text-align: right;\n",
       "    }\n",
       "</style>\n",
       "<table border=\"1\" class=\"dataframe\">\n",
       "  <thead>\n",
       "    <tr style=\"text-align: right;\">\n",
       "      <th></th>\n",
       "      <th>age</th>\n",
       "      <th>height</th>\n",
       "      <th>weight</th>\n",
       "    </tr>\n",
       "  </thead>\n",
       "  <tbody>\n",
       "    <tr>\n",
       "      <th>0</th>\n",
       "      <td>25</td>\n",
       "      <td>182</td>\n",
       "      <td>75</td>\n",
       "    </tr>\n",
       "    <tr>\n",
       "      <th>1</th>\n",
       "      <td>32</td>\n",
       "      <td>176</td>\n",
       "      <td>71</td>\n",
       "    </tr>\n",
       "    <tr>\n",
       "      <th>2</th>\n",
       "      <td>47</td>\n",
       "      <td>174</td>\n",
       "      <td>78</td>\n",
       "    </tr>\n",
       "    <tr>\n",
       "      <th>3</th>\n",
       "      <td>51</td>\n",
       "      <td>168</td>\n",
       "      <td>72</td>\n",
       "    </tr>\n",
       "    <tr>\n",
       "      <th>4</th>\n",
       "      <td>62</td>\n",
       "      <td>181</td>\n",
       "      <td>86</td>\n",
       "    </tr>\n",
       "  </tbody>\n",
       "</table>\n",
       "</div>"
      ],
      "text/plain": [
       "   age  height  weight\n",
       "0   25     182      75\n",
       "1   32     176      71\n",
       "2   47     174      78\n",
       "3   51     168      72\n",
       "4   62     181      86"
      ]
     },
     "execution_count": 3,
     "metadata": {},
     "output_type": "execute_result"
    }
   ],
   "source": [
    "X"
   ]
  },
  {
   "cell_type": "code",
   "execution_count": 4,
   "metadata": {},
   "outputs": [
    {
     "data": {
      "text/plain": [
       "0    20\n",
       "1    32\n",
       "2    45\n",
       "3    55\n",
       "4    61\n",
       "Name: income, dtype: int64"
      ]
     },
     "execution_count": 4,
     "metadata": {},
     "output_type": "execute_result"
    }
   ],
   "source": [
    "y"
   ]
  },
  {
   "cell_type": "markdown",
   "metadata": {},
   "source": [
    "### Boruta is based on two brilliant ideas.\n",
    "**The first idea: shadow features**\n",
    "\n",
    "In Boruta, features do not compete among themselves. Instead - and this is the first brilliant idea- they compete with a randomized version of them."
   ]
  },
  {
   "cell_type": "code",
   "execution_count": 5,
   "metadata": {},
   "outputs": [
    {
     "data": {
      "text/html": [
       "<div>\n",
       "<style scoped>\n",
       "    .dataframe tbody tr th:only-of-type {\n",
       "        vertical-align: middle;\n",
       "    }\n",
       "\n",
       "    .dataframe tbody tr th {\n",
       "        vertical-align: top;\n",
       "    }\n",
       "\n",
       "    .dataframe thead th {\n",
       "        text-align: right;\n",
       "    }\n",
       "</style>\n",
       "<table border=\"1\" class=\"dataframe\">\n",
       "  <thead>\n",
       "    <tr style=\"text-align: right;\">\n",
       "      <th></th>\n",
       "      <th>age</th>\n",
       "      <th>height</th>\n",
       "      <th>weight</th>\n",
       "      <th>shadow_age</th>\n",
       "      <th>shadow_height</th>\n",
       "      <th>shadow_weight</th>\n",
       "    </tr>\n",
       "  </thead>\n",
       "  <tbody>\n",
       "    <tr>\n",
       "      <th>0</th>\n",
       "      <td>25</td>\n",
       "      <td>182</td>\n",
       "      <td>75</td>\n",
       "      <td>32</td>\n",
       "      <td>168</td>\n",
       "      <td>71</td>\n",
       "    </tr>\n",
       "    <tr>\n",
       "      <th>1</th>\n",
       "      <td>32</td>\n",
       "      <td>176</td>\n",
       "      <td>71</td>\n",
       "      <td>62</td>\n",
       "      <td>176</td>\n",
       "      <td>75</td>\n",
       "    </tr>\n",
       "    <tr>\n",
       "      <th>2</th>\n",
       "      <td>47</td>\n",
       "      <td>174</td>\n",
       "      <td>78</td>\n",
       "      <td>47</td>\n",
       "      <td>174</td>\n",
       "      <td>72</td>\n",
       "    </tr>\n",
       "    <tr>\n",
       "      <th>3</th>\n",
       "      <td>51</td>\n",
       "      <td>168</td>\n",
       "      <td>72</td>\n",
       "      <td>25</td>\n",
       "      <td>182</td>\n",
       "      <td>86</td>\n",
       "    </tr>\n",
       "    <tr>\n",
       "      <th>4</th>\n",
       "      <td>62</td>\n",
       "      <td>181</td>\n",
       "      <td>86</td>\n",
       "      <td>51</td>\n",
       "      <td>181</td>\n",
       "      <td>78</td>\n",
       "    </tr>\n",
       "  </tbody>\n",
       "</table>\n",
       "</div>"
      ],
      "text/plain": [
       "   age  height  weight  shadow_age  shadow_height  shadow_weight\n",
       "0   25     182      75          32            168             71\n",
       "1   32     176      71          62            176             75\n",
       "2   47     174      78          47            174             72\n",
       "3   51     168      72          25            182             86\n",
       "4   62     181      86          51            181             78"
      ]
     },
     "execution_count": 5,
     "metadata": {},
     "output_type": "execute_result"
    }
   ],
   "source": [
    "import numpy as np\n",
    "\n",
    "# make X_shaow by randomly permuting each column of X\n",
    "np.random.seed(42)\n",
    "X_shadow = X.apply(np.random.permutation)\n",
    "X_shadow.columns = ['shadow_' + feat for feat in X.columns]\n",
    "\n",
    "# make X_boruta by appending X_shadow to X\n",
    "X_boruta = pd.concat([X, X_shadow], axis=1)\n",
    "\n",
    "X_boruta"
   ]
  },
  {
   "cell_type": "markdown",
   "metadata": {},
   "source": [
    "Now, we take the importance of each original features and compare it with a threshold. This time, **the threshold is defined as the highest feature importance recorded among the shaow features.** when the importance of a feature is higher than this threshold, this is called a \"hit\". The idea is that **a feature is useful only if it's capable of doing better than the best randomized feature.**"
   ]
  },
  {
   "cell_type": "code",
   "execution_count": 8,
   "metadata": {},
   "outputs": [
    {
     "data": {
      "text/plain": [
       "array([ True, False, False])"
      ]
     },
     "execution_count": 8,
     "metadata": {},
     "output_type": "execute_result"
    }
   ],
   "source": [
    "from sklearn.ensemble import RandomForestRegressor\n",
    "\n",
    "forest = RandomForestRegressor(max_depth=5, random_state=42)\n",
    "forest.fit(X_boruta, y)\n",
    "\n",
    "# store feature importances\n",
    "feat_imp_X = forest.feature_importances_[:len(X.columns)]\n",
    "feat_imp_shadow = forest.feature_importances_[len(X.columns):]\n",
    "\n",
    "# compute hits\n",
    "hits = feat_imp_X > feat_imp_shadow.max()\n",
    "\n",
    "hits"
   ]
  },
  {
   "cell_type": "code",
   "execution_count": 31,
   "metadata": {},
   "outputs": [
    {
     "data": {
      "text/html": [
       "<div>\n",
       "<style scoped>\n",
       "    .dataframe tbody tr th:only-of-type {\n",
       "        vertical-align: middle;\n",
       "    }\n",
       "\n",
       "    .dataframe tbody tr th {\n",
       "        vertical-align: top;\n",
       "    }\n",
       "\n",
       "    .dataframe thead th {\n",
       "        text-align: right;\n",
       "    }\n",
       "</style>\n",
       "<table border=\"1\" class=\"dataframe\">\n",
       "  <thead>\n",
       "    <tr style=\"text-align: right;\">\n",
       "      <th></th>\n",
       "      <th>0</th>\n",
       "      <th>1</th>\n",
       "    </tr>\n",
       "  </thead>\n",
       "  <tbody>\n",
       "    <tr>\n",
       "      <th>0</th>\n",
       "      <td>0.281124</td>\n",
       "      <td>0.101621</td>\n",
       "    </tr>\n",
       "    <tr>\n",
       "      <th>1</th>\n",
       "      <td>0.158089</td>\n",
       "      <td>0.211820</td>\n",
       "    </tr>\n",
       "    <tr>\n",
       "      <th>2</th>\n",
       "      <td>0.092546</td>\n",
       "      <td>0.154799</td>\n",
       "    </tr>\n",
       "  </tbody>\n",
       "</table>\n",
       "</div>"
      ],
      "text/plain": [
       "          0         1\n",
       "0  0.281124  0.101621\n",
       "1  0.158089  0.211820\n",
       "2  0.092546  0.154799"
      ]
     },
     "execution_count": 31,
     "metadata": {},
     "output_type": "execute_result"
    }
   ],
   "source": [
    "pd.concat([pd.Series(feat_imp_X), pd.Series(feat_imp_shadow)], axis=1)"
   ]
  },
  {
   "cell_type": "markdown",
   "metadata": {},
   "source": [
    "Apprently, we should only keep ***age***. **But should we trust this run?** What if it was just an unlucky run for weight and height? \n",
    "\n",
    "This is where the second brilliant idea of Boruta comes into play."
   ]
  },
  {
   "cell_type": "markdown",
   "metadata": {},
   "source": [
    "## The second idea: binomial distribution\n",
    "\n",
    "As often happens, **the key is iteration.** Not surprisingly, 20 trials are more reliable than 1 trial and 100 trials are more reliable than 20 trials."
   ]
  },
  {
   "cell_type": "code",
   "execution_count": 34,
   "metadata": {},
   "outputs": [],
   "source": [
    "# initialize hits counter\n",
    "hits = np.zeros((len(X.columns)))\n",
    "\n",
    "# repeat 20 times\n",
    "for iter_ in range(20):\n",
    "    \n",
    "#      make X_shadow by randomly permuting each column of X\n",
    "    np.random.seed(iter_)\n",
    "    X_shadow = X.apply(np.random.permutation)\n",
    "    X_boruta = pd.concat([X, X_shadow], axis=1)\n",
    "    \n",
    "    forest = RandomForestRegressor(max_depth=5, random_state=42)\n",
    "    forest.fit(X_boruta, y)\n",
    "    \n",
    "    feat_imp_X = forest.feature_importances_[:len(X.columns)]\n",
    "    feat_imp_shadow = forest.feature_importances_[len(X.columns):]\n",
    "    \n",
    "    hits += (feat_imp_X > feat_imp_shadow.max())"
   ]
  },
  {
   "cell_type": "code",
   "execution_count": 35,
   "metadata": {},
   "outputs": [
    {
     "data": {
      "text/html": [
       "<div>\n",
       "<style scoped>\n",
       "    .dataframe tbody tr th:only-of-type {\n",
       "        vertical-align: middle;\n",
       "    }\n",
       "\n",
       "    .dataframe tbody tr th {\n",
       "        vertical-align: top;\n",
       "    }\n",
       "\n",
       "    .dataframe thead th {\n",
       "        text-align: right;\n",
       "    }\n",
       "</style>\n",
       "<table border=\"1\" class=\"dataframe\">\n",
       "  <thead>\n",
       "    <tr style=\"text-align: right;\">\n",
       "      <th></th>\n",
       "      <th>0</th>\n",
       "      <th>1</th>\n",
       "    </tr>\n",
       "  </thead>\n",
       "  <tbody>\n",
       "    <tr>\n",
       "      <th>0</th>\n",
       "      <td>0.348555</td>\n",
       "      <td>0.189159</td>\n",
       "    </tr>\n",
       "    <tr>\n",
       "      <th>1</th>\n",
       "      <td>0.150432</td>\n",
       "      <td>0.084215</td>\n",
       "    </tr>\n",
       "    <tr>\n",
       "      <th>2</th>\n",
       "      <td>0.086995</td>\n",
       "      <td>0.140643</td>\n",
       "    </tr>\n",
       "  </tbody>\n",
       "</table>\n",
       "</div>"
      ],
      "text/plain": [
       "          0         1\n",
       "0  0.348555  0.189159\n",
       "1  0.150432  0.084215\n",
       "2  0.086995  0.140643"
      ]
     },
     "execution_count": 35,
     "metadata": {},
     "output_type": "execute_result"
    }
   ],
   "source": [
    "pd.concat([pd.Series(feat_imp_X), pd.Series(feat_imp_shadow)], axis=1)"
   ]
  },
  {
   "cell_type": "markdown",
   "metadata": {},
   "source": [
    "et’s take a feature (no matter if age, height or weight) and say we have absolutely no clue if it’s useful or not. What is the probability that we shall keep it? **The maximum level of uncertainty about the feature is expressed by a probability of 50%, like tossing a coin.** Since each independent experiment can give a binary outcome (hit or no hit), **a series of n trials follows a binomial distribution.**"
   ]
  },
  {
   "cell_type": "code",
   "execution_count": 41,
   "metadata": {},
   "outputs": [],
   "source": [
    "import scipy as sp\n",
    "\n",
    "trials = 20\n",
    "pmf = [sp.stats.binom.pmf(x, trials, .5) for x in range(trials+1)]"
   ]
  },
  {
   "cell_type": "code",
   "execution_count": 42,
   "metadata": {},
   "outputs": [
    {
     "data": {
      "text/plain": [
       "[9.5367431640625e-07,\n",
       " 1.907348632812499e-05,\n",
       " 0.00018119812011718734,\n",
       " 0.0010871887207031235,\n",
       " 0.004620552062988271,\n",
       " 0.014785766601562429,\n",
       " 0.03696441650390614,\n",
       " 0.07392883300781268,\n",
       " 0.12013435363769531,\n",
       " 0.16017913818359344,\n",
       " 0.17619705200195293,\n",
       " 0.16017913818359344,\n",
       " 0.12013435363769531,\n",
       " 0.07392883300781268,\n",
       " 0.03696441650390614,\n",
       " 0.014785766601562429,\n",
       " 0.004620552062988271,\n",
       " 0.0010871887207031235,\n",
       " 0.00018119812011718734,\n",
       " 1.907348632812499e-05,\n",
       " 9.5367431640625e-07]"
      ]
     },
     "execution_count": 42,
     "metadata": {},
     "output_type": "execute_result"
    }
   ],
   "source": [
    "pmf"
   ]
  },
  {
   "cell_type": "code",
   "execution_count": 44,
   "metadata": {},
   "outputs": [
    {
     "data": {
      "text/plain": [
       "<seaborn.axisgrid.FacetGrid at 0x222a5a872b0>"
      ]
     },
     "execution_count": 44,
     "metadata": {},
     "output_type": "execute_result"
    },
    {
     "data": {
      "image/png": "[encoded data removed]",
      "text/plain": [
       "<Figure size 360x360 with 1 Axes>"
      ]
     },
     "metadata": {
      "needs_background": "light"
     },
     "output_type": "display_data"
    }
   ],
   "source": [
    "sns.displot(pmf, kind='kde')"
   ]
  },
  {
   "cell_type": "markdown",
   "metadata": {},
   "source": [
    "### Using BorutaPy in Python"
   ]
  },
  {
   "cell_type": "code",
   "execution_count": 48,
   "metadata": {},
   "outputs": [
    {
     "name": "stdout",
     "output_type": "stream",
     "text": [
      "features in the green area: []\n",
      "features in the blue area: []\n"
     ]
    }
   ],
   "source": [
    "from boruta import BorutaPy\n",
    "from sklearn.ensemble import RandomForestRegressor\n",
    "import numpy as np\n",
    "\n",
    "forest = RandomForestRegressor(n_jobs=-1, max_depth=5)\n",
    "\n",
    "boruta = BorutaPy(estimator = forest,\n",
    "                 n_estimators = 'auto',\n",
    "                 max_iter = 100)\n",
    "boruta.fit(np.array(X), np.array(y))\n",
    "\n",
    "# print results\n",
    "green_area = X.columns[boruta.support_].to_list()\n",
    "blue_area = X.columns[boruta.support_weak_].to_list()\n",
    "\n",
    "print('features in the green area:', green_area)\n",
    "print('features in the blue area:', blue_area)"
   ]
  }
 ],
 "metadata": {
  "kernelspec": {
   "display_name": "Python 3",
   "language": "python",
   "name": "python3"
  },
  "language_info": {
   "codemirror_mode": {
    "name": "ipython",
    "version": 3
   },
   "file_extension": ".py",
   "mimetype": "text/x-python",
   "name": "python",
   "nbconvert_exporter": "python",
   "pygments_lexer": "ipython3",
   "version": "3.7.1"
  }
 },
 "nbformat": 4,
 "nbformat_minor": 2
}
