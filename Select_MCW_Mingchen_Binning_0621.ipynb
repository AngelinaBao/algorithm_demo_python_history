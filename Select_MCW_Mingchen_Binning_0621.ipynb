{
 "cells": [
  {
   "cell_type": "markdown",
   "metadata": {},
   "source": [
    "**MCW mean: 58, sigma: 5; OW mean: 29; ACC mean: 97**"
   ]
  },
  {
   "cell_type": "code",
   "execution_count": 43,
   "metadata": {},
   "outputs": [],
   "source": [
    "import pandas as pd\n",
    "import numpy as np"
   ]
  },
  {
   "cell_type": "code",
   "execution_count": 44,
   "metadata": {},
   "outputs": [
    {
     "data": {
      "text/plain": [
       "(1861552, 5)"
      ]
     },
     "execution_count": 44,
     "metadata": {},
     "output_type": "execute_result"
    }
   ],
   "source": [
    "df = pd.read_csv('THO_Data.csv', usecols=['slidersn', 'JOBNUM', 'WEW_R0_NM', 'OW_R0_DB', 'Pred_ACC_CMR'])\n",
    "df.shape"
   ]
  },
  {
   "cell_type": "code",
   "execution_count": 45,
   "metadata": {},
   "outputs": [
    {
     "data": {
      "text/html": [
       "<div>\n",
       "<style scoped>\n",
       "    .dataframe tbody tr th:only-of-type {\n",
       "        vertical-align: middle;\n",
       "    }\n",
       "\n",
       "    .dataframe tbody tr th {\n",
       "        vertical-align: top;\n",
       "    }\n",
       "\n",
       "    .dataframe thead th {\n",
       "        text-align: right;\n",
       "    }\n",
       "</style>\n",
       "<table border=\"1\" class=\"dataframe\">\n",
       "  <thead>\n",
       "    <tr style=\"text-align: right;\">\n",
       "      <th></th>\n",
       "      <th>slidersn</th>\n",
       "      <th>JOBNUM</th>\n",
       "      <th>WEW_R0_NM</th>\n",
       "      <th>OW_R0_DB</th>\n",
       "      <th>Pred_ACC_CMR</th>\n",
       "    </tr>\n",
       "  </thead>\n",
       "  <tbody>\n",
       "    <tr>\n",
       "      <th>0</th>\n",
       "      <td>545820470B</td>\n",
       "      <td>40097732</td>\n",
       "      <td>55.972</td>\n",
       "      <td>26.476</td>\n",
       "      <td>97.485</td>\n",
       "    </tr>\n",
       "    <tr>\n",
       "      <th>1</th>\n",
       "      <td>545820470C</td>\n",
       "      <td>40097732</td>\n",
       "      <td>51.591</td>\n",
       "      <td>23.876</td>\n",
       "      <td>99.703</td>\n",
       "    </tr>\n",
       "    <tr>\n",
       "      <th>2</th>\n",
       "      <td>545820470E</td>\n",
       "      <td>40097732</td>\n",
       "      <td>54.254</td>\n",
       "      <td>26.251</td>\n",
       "      <td>99.090</td>\n",
       "    </tr>\n",
       "    <tr>\n",
       "      <th>3</th>\n",
       "      <td>545820470F</td>\n",
       "      <td>40097732</td>\n",
       "      <td>53.890</td>\n",
       "      <td>25.313</td>\n",
       "      <td>98.520</td>\n",
       "    </tr>\n",
       "    <tr>\n",
       "      <th>4</th>\n",
       "      <td>5458204728</td>\n",
       "      <td>40097732</td>\n",
       "      <td>NaN</td>\n",
       "      <td>NaN</td>\n",
       "      <td>NaN</td>\n",
       "    </tr>\n",
       "  </tbody>\n",
       "</table>\n",
       "</div>"
      ],
      "text/plain": [
       "     slidersn    JOBNUM  WEW_R0_NM  OW_R0_DB  Pred_ACC_CMR\n",
       "0  545820470B  40097732     55.972    26.476        97.485\n",
       "1  545820470C  40097732     51.591    23.876        99.703\n",
       "2  545820470E  40097732     54.254    26.251        99.090\n",
       "3  545820470F  40097732     53.890    25.313        98.520\n",
       "4  5458204728  40097732        NaN       NaN           NaN"
      ]
     },
     "execution_count": 45,
     "metadata": {},
     "output_type": "execute_result"
    }
   ],
   "source": [
    "df.head()"
   ]
  },
  {
   "cell_type": "code",
   "execution_count": 46,
   "metadata": {},
   "outputs": [
    {
     "data": {
      "text/plain": [
       "(1779881, 5)"
      ]
     },
     "execution_count": 46,
     "metadata": {},
     "output_type": "execute_result"
    }
   ],
   "source": [
    "df.dropna(subset=['WEW_R0_NM', 'OW_R0_DB', 'Pred_ACC_CMR'], how='any', inplace=True)\n",
    "df.shape"
   ]
  },
  {
   "cell_type": "code",
   "execution_count": 47,
   "metadata": {},
   "outputs": [
    {
     "data": {
      "text/plain": [
       "1779881"
      ]
     },
     "execution_count": 47,
     "metadata": {},
     "output_type": "execute_result"
    }
   ],
   "source": [
    "df['slidersn'].nunique()"
   ]
  },
  {
   "cell_type": "code",
   "execution_count": 48,
   "metadata": {},
   "outputs": [
    {
     "data": {
      "text/plain": [
       "count   1779881.000\n",
       "mean         58.458\n",
       "std           4.708\n",
       "min        -100.516\n",
       "1%           45.758\n",
       "5%           50.708\n",
       "50%          58.625\n",
       "95%          65.647\n",
       "99%          69.433\n",
       "max         151.260\n",
       "Name: WEW_R0_NM, dtype: float64"
      ]
     },
     "execution_count": 48,
     "metadata": {},
     "output_type": "execute_result"
    }
   ],
   "source": [
    "pd.set_option('display.float_format', lambda x:'%.3f'%x)\n",
    "df['WEW_R0_NM'].describe([.01, .05, .95, .99])"
   ]
  },
  {
   "cell_type": "code",
   "execution_count": 49,
   "metadata": {},
   "outputs": [
    {
     "data": {
      "text/plain": [
       "(1779851, 5)"
      ]
     },
     "execution_count": 49,
     "metadata": {},
     "output_type": "execute_result"
    }
   ],
   "source": [
    "df = df.loc[df.WEW_R0_NM.between(30,100)]\n",
    "df.shape"
   ]
  },
  {
   "cell_type": "code",
   "execution_count": 50,
   "metadata": {},
   "outputs": [
    {
     "data": {
      "text/plain": [
       "count   1779851.000\n",
       "mean         58.457\n",
       "std           4.702\n",
       "Name: WEW_R0_NM, dtype: float64"
      ]
     },
     "execution_count": 50,
     "metadata": {},
     "output_type": "execute_result"
    }
   ],
   "source": [
    "df['WEW_R0_NM'].agg(['count', 'mean', 'std'])"
   ]
  },
  {
   "cell_type": "code",
   "execution_count": 60,
   "metadata": {},
   "outputs": [],
   "source": [
    "def Binning(df = df, n=100, frac=0.9):\n",
    "    df_copy = df.copy(deep=True)\n",
    "    MCW_model = np.round(np.random.normal(58, 5.4, len(df)), 3)\n",
    "    MCW_model.sort()\n",
    "    MCW_model_cut = pd.cut(MCW_model, n, precision=3, retbins=True)\n",
    "    MCW_model = pd.DataFrame({'WEW_R0_NM': MCW_model, 'Bin': MCW_model_cut[0]})\n",
    "    MCW_model_bin = np.round(MCW_model_cut[1],3)\n",
    "    \n",
    "    df_copy['WEW_R0_NM'] = df_copy['WEW_R0_NM'].round(decimals=3)\n",
    "    df_copy.sort_values(by='WEW_R0_NM', ascending=True, inplace=True)\n",
    "    df_copy_cut = pd.Series(data = pd.cut(df_copy['WEW_R0_NM'], bins=MCW_model_bin), name='Bin')   \n",
    "    df_copy = pd.concat([df_copy, df_copy_cut], axis=1)\n",
    "    \n",
    "    select_size = np.round(MCW_model['Bin'].value_counts()*frac, 0).astype('int64')\n",
    "    collect_select = pd.DataFrame(dtype='float64')\n",
    "    for i in select_size.index:\n",
    "        df_group = df_copy.loc[df_copy['Bin']==i]\n",
    "        if len(df_group) < select_size[i]:\n",
    "            df_group = df_group\n",
    "        else:\n",
    "            df_group = df_group.sample(n=select_size[i])\n",
    "        collect_select = pd.concat([collect_select, df_group], axis=0)\n",
    "\n",
    "    return collect_select"
   ]
  },
  {
   "cell_type": "code",
   "execution_count": 73,
   "metadata": {},
   "outputs": [],
   "source": [
    "def Find_Match_Bins():\n",
    "    for i in [0.9, 0.8, 0.7]:\n",
    "        for j in [10, 50, 100, 200, 300]:\n",
    "            select_bins = Binning(df, n=j, frac=i)\n",
    "#             if (select_bins['WEW_R0_NM'].mean() >= 57.97) & (select_bins['WEW_R0_NM'].mean() <= 58.4) & (select_bins['WEW_R0_NM'].std() >= 4.99) & (select_bins['WEW_R0_NM'].mean() <= 5.04):\n",
    "            if (pd.Series(select_bins['WEW_R0_NM'].mean()).between(57.97, 58.3).values) & (pd.Series(select_bins['WEW_R0_NM'].std()).between(4.99, 5.04).values):\n",
    "                print('Find it!, Bin:{}, Frac:{}'.format(i, j))\n",
    "                print(select_bins['WEW_R0_NM'].agg(['count', 'mean', 'std']))\n",
    "                select_bins[['slidersn']].to_csv('SN_select.csv', index=False)\n",
    "                return select_bins             \n",
    "    return select_bins"
   ]
  },
  {
   "cell_type": "code",
   "execution_count": 74,
   "metadata": {},
   "outputs": [
    {
     "name": "stdout",
     "output_type": "stream",
     "text": [
      "Find it!, Bin:0.8, Frac:50\n",
      "count   1336978.000\n",
      "mean         58.204\n",
      "std           5.031\n",
      "Name: WEW_R0_NM, dtype: float64\n"
     ]
    }
   ],
   "source": [
    "select_df = Find_Match_Bins()"
   ]
  },
  {
   "cell_type": "code",
   "execution_count": 75,
   "metadata": {},
   "outputs": [
    {
     "data": {
      "text/html": [
       "<div>\n",
       "<style scoped>\n",
       "    .dataframe tbody tr th:only-of-type {\n",
       "        vertical-align: middle;\n",
       "    }\n",
       "\n",
       "    .dataframe tbody tr th {\n",
       "        vertical-align: top;\n",
       "    }\n",
       "\n",
       "    .dataframe thead th {\n",
       "        text-align: right;\n",
       "    }\n",
       "</style>\n",
       "<table border=\"1\" class=\"dataframe\">\n",
       "  <thead>\n",
       "    <tr style=\"text-align: right;\">\n",
       "      <th></th>\n",
       "      <th>slidersn</th>\n",
       "      <th>JOBNUM</th>\n",
       "      <th>WEW_R0_NM</th>\n",
       "      <th>OW_R0_DB</th>\n",
       "      <th>Pred_ACC_CMR</th>\n",
       "      <th>Bin</th>\n",
       "    </tr>\n",
       "  </thead>\n",
       "  <tbody>\n",
       "    <tr>\n",
       "      <th>647632</th>\n",
       "      <td>5720D2580F</td>\n",
       "      <td>40120478</td>\n",
       "      <td>57.810</td>\n",
       "      <td>29.189</td>\n",
       "      <td>97.654</td>\n",
       "      <td>(57.048, 58.13]</td>\n",
       "    </tr>\n",
       "    <tr>\n",
       "      <th>407594</th>\n",
       "      <td>570320E11D</td>\n",
       "      <td>40407319</td>\n",
       "      <td>57.160</td>\n",
       "      <td>27.825</td>\n",
       "      <td>96.250</td>\n",
       "      <td>(57.048, 58.13]</td>\n",
       "    </tr>\n",
       "    <tr>\n",
       "      <th>676085</th>\n",
       "      <td>5721311F26</td>\n",
       "      <td>36097968</td>\n",
       "      <td>58.075</td>\n",
       "      <td>28.489</td>\n",
       "      <td>97.655</td>\n",
       "      <td>(57.048, 58.13]</td>\n",
       "    </tr>\n",
       "    <tr>\n",
       "      <th>769313</th>\n",
       "      <td>573373DB06</td>\n",
       "      <td>40606088</td>\n",
       "      <td>57.760</td>\n",
       "      <td>27.592</td>\n",
       "      <td>98.081</td>\n",
       "      <td>(57.048, 58.13]</td>\n",
       "    </tr>\n",
       "    <tr>\n",
       "      <th>1785998</th>\n",
       "      <td>5837008131</td>\n",
       "      <td>39755353</td>\n",
       "      <td>57.710</td>\n",
       "      <td>29.375</td>\n",
       "      <td>97.791</td>\n",
       "      <td>(57.048, 58.13]</td>\n",
       "    </tr>\n",
       "  </tbody>\n",
       "</table>\n",
       "</div>"
      ],
      "text/plain": [
       "           slidersn    JOBNUM  WEW_R0_NM  OW_R0_DB  Pred_ACC_CMR  \\\n",
       "647632   5720D2580F  40120478     57.810    29.189        97.654   \n",
       "407594   570320E11D  40407319     57.160    27.825        96.250   \n",
       "676085   5721311F26  36097968     58.075    28.489        97.655   \n",
       "769313   573373DB06  40606088     57.760    27.592        98.081   \n",
       "1785998  5837008131  39755353     57.710    29.375        97.791   \n",
       "\n",
       "                     Bin  \n",
       "647632   (57.048, 58.13]  \n",
       "407594   (57.048, 58.13]  \n",
       "676085   (57.048, 58.13]  \n",
       "769313   (57.048, 58.13]  \n",
       "1785998  (57.048, 58.13]  "
      ]
     },
     "execution_count": 75,
     "metadata": {},
     "output_type": "execute_result"
    }
   ],
   "source": [
    "select_df.head()"
   ]
  },
  {
   "cell_type": "markdown",
   "metadata": {},
   "source": [
    "### Consindering More Paras"
   ]
  },
  {
   "cell_type": "code",
   "execution_count": 77,
   "metadata": {
    "scrolled": true
   },
   "outputs": [
    {
     "data": {
      "text/html": [
       "<div>\n",
       "<style scoped>\n",
       "    .dataframe tbody tr th:only-of-type {\n",
       "        vertical-align: middle;\n",
       "    }\n",
       "\n",
       "    .dataframe tbody tr th {\n",
       "        vertical-align: top;\n",
       "    }\n",
       "\n",
       "    .dataframe thead th {\n",
       "        text-align: right;\n",
       "    }\n",
       "</style>\n",
       "<table border=\"1\" class=\"dataframe\">\n",
       "  <thead>\n",
       "    <tr style=\"text-align: right;\">\n",
       "      <th></th>\n",
       "      <th>JOBNUM</th>\n",
       "      <th>WEW_R0_NM</th>\n",
       "      <th>OW_R0_DB</th>\n",
       "      <th>Pred_ACC_CMR</th>\n",
       "    </tr>\n",
       "  </thead>\n",
       "  <tbody>\n",
       "    <tr>\n",
       "      <th>count</th>\n",
       "      <td>1336978.000</td>\n",
       "      <td>1336978.000</td>\n",
       "      <td>1336978.000</td>\n",
       "      <td>1336978.000</td>\n",
       "    </tr>\n",
       "    <tr>\n",
       "      <th>mean</th>\n",
       "      <td>39577585.780</td>\n",
       "      <td>58.204</td>\n",
       "      <td>28.868</td>\n",
       "      <td>96.535</td>\n",
       "    </tr>\n",
       "    <tr>\n",
       "      <th>std</th>\n",
       "      <td>1070878.079</td>\n",
       "      <td>5.031</td>\n",
       "      <td>3.401</td>\n",
       "      <td>2.437</td>\n",
       "    </tr>\n",
       "    <tr>\n",
       "      <th>min</th>\n",
       "      <td>31008488.000</td>\n",
       "      <td>31.886</td>\n",
       "      <td>2.950</td>\n",
       "      <td>80.835</td>\n",
       "    </tr>\n",
       "    <tr>\n",
       "      <th>25%</th>\n",
       "      <td>39097538.000</td>\n",
       "      <td>54.834</td>\n",
       "      <td>26.562</td>\n",
       "      <td>95.447</td>\n",
       "    </tr>\n",
       "    <tr>\n",
       "      <th>50%</th>\n",
       "      <td>39744449.000</td>\n",
       "      <td>58.185</td>\n",
       "      <td>28.885</td>\n",
       "      <td>97.230</td>\n",
       "    </tr>\n",
       "    <tr>\n",
       "      <th>75%</th>\n",
       "      <td>40412399.000</td>\n",
       "      <td>61.611</td>\n",
       "      <td>31.201</td>\n",
       "      <td>98.229</td>\n",
       "    </tr>\n",
       "    <tr>\n",
       "      <th>max</th>\n",
       "      <td>41344965.000</td>\n",
       "      <td>84.875</td>\n",
       "      <td>48.957</td>\n",
       "      <td>106.389</td>\n",
       "    </tr>\n",
       "  </tbody>\n",
       "</table>\n",
       "</div>"
      ],
      "text/plain": [
       "            JOBNUM   WEW_R0_NM    OW_R0_DB  Pred_ACC_CMR\n",
       "count  1336978.000 1336978.000 1336978.000   1336978.000\n",
       "mean  39577585.780      58.204      28.868        96.535\n",
       "std    1070878.079       5.031       3.401         2.437\n",
       "min   31008488.000      31.886       2.950        80.835\n",
       "25%   39097538.000      54.834      26.562        95.447\n",
       "50%   39744449.000      58.185      28.885        97.230\n",
       "75%   40412399.000      61.611      31.201        98.229\n",
       "max   41344965.000      84.875      48.957       106.389"
      ]
     },
     "execution_count": 77,
     "metadata": {},
     "output_type": "execute_result"
    }
   ],
   "source": [
    "select_df.describe()"
   ]
  },
  {
   "cell_type": "code",
   "execution_count": 79,
   "metadata": {},
   "outputs": [
    {
     "data": {
      "text/html": [
       "<div>\n",
       "<style scoped>\n",
       "    .dataframe tbody tr th:only-of-type {\n",
       "        vertical-align: middle;\n",
       "    }\n",
       "\n",
       "    .dataframe tbody tr th {\n",
       "        vertical-align: top;\n",
       "    }\n",
       "\n",
       "    .dataframe thead tr th {\n",
       "        text-align: left;\n",
       "    }\n",
       "\n",
       "    .dataframe thead tr:last-of-type th {\n",
       "        text-align: right;\n",
       "    }\n",
       "</style>\n",
       "<table border=\"1\" class=\"dataframe\">\n",
       "  <thead>\n",
       "    <tr>\n",
       "      <th></th>\n",
       "      <th colspan=\"2\" halign=\"left\">OW_R0_DB</th>\n",
       "      <th>Pred_ACC_CMR</th>\n",
       "      <th colspan=\"2\" halign=\"left\">WEW_R0_NM</th>\n",
       "    </tr>\n",
       "    <tr>\n",
       "      <th></th>\n",
       "      <th>count</th>\n",
       "      <th>mean</th>\n",
       "      <th>mean</th>\n",
       "      <th>mean</th>\n",
       "      <th>std</th>\n",
       "    </tr>\n",
       "    <tr>\n",
       "      <th>JOBNUM</th>\n",
       "      <th></th>\n",
       "      <th></th>\n",
       "      <th></th>\n",
       "      <th></th>\n",
       "      <th></th>\n",
       "    </tr>\n",
       "  </thead>\n",
       "  <tbody>\n",
       "    <tr>\n",
       "      <th>31008488</th>\n",
       "      <td>325</td>\n",
       "      <td>29.840</td>\n",
       "      <td>96.520</td>\n",
       "      <td>59.353</td>\n",
       "      <td>3.951</td>\n",
       "    </tr>\n",
       "    <tr>\n",
       "      <th>31046428</th>\n",
       "      <td>381</td>\n",
       "      <td>26.551</td>\n",
       "      <td>97.138</td>\n",
       "      <td>55.843</td>\n",
       "      <td>4.720</td>\n",
       "    </tr>\n",
       "    <tr>\n",
       "      <th>31720175</th>\n",
       "      <td>383</td>\n",
       "      <td>27.234</td>\n",
       "      <td>97.775</td>\n",
       "      <td>55.693</td>\n",
       "      <td>4.836</td>\n",
       "    </tr>\n",
       "    <tr>\n",
       "      <th>31905237</th>\n",
       "      <td>372</td>\n",
       "      <td>28.014</td>\n",
       "      <td>97.609</td>\n",
       "      <td>57.116</td>\n",
       "      <td>4.427</td>\n",
       "    </tr>\n",
       "    <tr>\n",
       "      <th>32445176</th>\n",
       "      <td>316</td>\n",
       "      <td>29.614</td>\n",
       "      <td>97.002</td>\n",
       "      <td>57.966</td>\n",
       "      <td>4.729</td>\n",
       "    </tr>\n",
       "  </tbody>\n",
       "</table>\n",
       "</div>"
      ],
      "text/plain": [
       "         OW_R0_DB        Pred_ACC_CMR WEW_R0_NM      \n",
       "            count   mean         mean      mean   std\n",
       "JOBNUM                                               \n",
       "31008488      325 29.840       96.520    59.353 3.951\n",
       "31046428      381 26.551       97.138    55.843 4.720\n",
       "31720175      383 27.234       97.775    55.693 4.836\n",
       "31905237      372 28.014       97.609    57.116 4.427\n",
       "32445176      316 29.614       97.002    57.966 4.729"
      ]
     },
     "execution_count": 79,
     "metadata": {},
     "output_type": "execute_result"
    }
   ],
   "source": [
    "summary_df = select_df.groupby('JOBNUM').agg({'OW_R0_DB': ['count', 'mean'],\n",
    "                                             'Pred_ACC_CMR': ['mean'],\n",
    "                                             'WEW_R0_NM':['mean', 'std']})\n",
    "summary_df.head()"
   ]
  },
  {
   "cell_type": "code",
   "execution_count": 80,
   "metadata": {},
   "outputs": [
    {
     "data": {
      "text/html": [
       "<div>\n",
       "<style scoped>\n",
       "    .dataframe tbody tr th:only-of-type {\n",
       "        vertical-align: middle;\n",
       "    }\n",
       "\n",
       "    .dataframe tbody tr th {\n",
       "        vertical-align: top;\n",
       "    }\n",
       "\n",
       "    .dataframe thead th {\n",
       "        text-align: right;\n",
       "    }\n",
       "</style>\n",
       "<table border=\"1\" class=\"dataframe\">\n",
       "  <thead>\n",
       "    <tr style=\"text-align: right;\">\n",
       "      <th></th>\n",
       "      <th>OW_R0_DB_COUNT</th>\n",
       "      <th>OW_R0_DB_MEAN</th>\n",
       "      <th>PRED_ACC_CMR_MEAN</th>\n",
       "      <th>WEW_R0_NM_MEAN</th>\n",
       "      <th>WEW_R0_NM_STD</th>\n",
       "    </tr>\n",
       "    <tr>\n",
       "      <th>JOBNUM</th>\n",
       "      <th></th>\n",
       "      <th></th>\n",
       "      <th></th>\n",
       "      <th></th>\n",
       "      <th></th>\n",
       "    </tr>\n",
       "  </thead>\n",
       "  <tbody>\n",
       "    <tr>\n",
       "      <th>31008488</th>\n",
       "      <td>325</td>\n",
       "      <td>29.840</td>\n",
       "      <td>96.520</td>\n",
       "      <td>59.353</td>\n",
       "      <td>3.951</td>\n",
       "    </tr>\n",
       "    <tr>\n",
       "      <th>31046428</th>\n",
       "      <td>381</td>\n",
       "      <td>26.551</td>\n",
       "      <td>97.138</td>\n",
       "      <td>55.843</td>\n",
       "      <td>4.720</td>\n",
       "    </tr>\n",
       "    <tr>\n",
       "      <th>31720175</th>\n",
       "      <td>383</td>\n",
       "      <td>27.234</td>\n",
       "      <td>97.775</td>\n",
       "      <td>55.693</td>\n",
       "      <td>4.836</td>\n",
       "    </tr>\n",
       "    <tr>\n",
       "      <th>31905237</th>\n",
       "      <td>372</td>\n",
       "      <td>28.014</td>\n",
       "      <td>97.609</td>\n",
       "      <td>57.116</td>\n",
       "      <td>4.427</td>\n",
       "    </tr>\n",
       "    <tr>\n",
       "      <th>32445176</th>\n",
       "      <td>316</td>\n",
       "      <td>29.614</td>\n",
       "      <td>97.002</td>\n",
       "      <td>57.966</td>\n",
       "      <td>4.729</td>\n",
       "    </tr>\n",
       "  </tbody>\n",
       "</table>\n",
       "</div>"
      ],
      "text/plain": [
       "          OW_R0_DB_COUNT  OW_R0_DB_MEAN  PRED_ACC_CMR_MEAN  WEW_R0_NM_MEAN  \\\n",
       "JOBNUM                                                                       \n",
       "31008488             325         29.840             96.520          59.353   \n",
       "31046428             381         26.551             97.138          55.843   \n",
       "31720175             383         27.234             97.775          55.693   \n",
       "31905237             372         28.014             97.609          57.116   \n",
       "32445176             316         29.614             97.002          57.966   \n",
       "\n",
       "          WEW_R0_NM_STD  \n",
       "JOBNUM                   \n",
       "31008488          3.951  \n",
       "31046428          4.720  \n",
       "31720175          4.836  \n",
       "31905237          4.427  \n",
       "32445176          4.729  "
      ]
     },
     "execution_count": 80,
     "metadata": {},
     "output_type": "execute_result"
    }
   ],
   "source": [
    "summary_df.columns = ['_'.join(cols).upper()\n",
    "                     for cols in summary_df.columns.to_flat_index()]\n",
    "summary_df.head()"
   ]
  },
  {
   "cell_type": "code",
   "execution_count": 82,
   "metadata": {},
   "outputs": [
    {
     "data": {
      "text/html": [
       "<div>\n",
       "<style scoped>\n",
       "    .dataframe tbody tr th:only-of-type {\n",
       "        vertical-align: middle;\n",
       "    }\n",
       "\n",
       "    .dataframe tbody tr th {\n",
       "        vertical-align: top;\n",
       "    }\n",
       "\n",
       "    .dataframe thead th {\n",
       "        text-align: right;\n",
       "    }\n",
       "</style>\n",
       "<table border=\"1\" class=\"dataframe\">\n",
       "  <thead>\n",
       "    <tr style=\"text-align: right;\">\n",
       "      <th></th>\n",
       "      <th>Qty</th>\n",
       "      <th>OW_Mean</th>\n",
       "      <th>ACC_Mean</th>\n",
       "      <th>MCW_Mean</th>\n",
       "      <th>MCW_Std</th>\n",
       "    </tr>\n",
       "    <tr>\n",
       "      <th>JOBNUM</th>\n",
       "      <th></th>\n",
       "      <th></th>\n",
       "      <th></th>\n",
       "      <th></th>\n",
       "      <th></th>\n",
       "    </tr>\n",
       "  </thead>\n",
       "  <tbody>\n",
       "    <tr>\n",
       "      <th>31008488</th>\n",
       "      <td>325</td>\n",
       "      <td>29.840</td>\n",
       "      <td>96.520</td>\n",
       "      <td>59.353</td>\n",
       "      <td>3.951</td>\n",
       "    </tr>\n",
       "    <tr>\n",
       "      <th>31046428</th>\n",
       "      <td>381</td>\n",
       "      <td>26.551</td>\n",
       "      <td>97.138</td>\n",
       "      <td>55.843</td>\n",
       "      <td>4.720</td>\n",
       "    </tr>\n",
       "    <tr>\n",
       "      <th>31720175</th>\n",
       "      <td>383</td>\n",
       "      <td>27.234</td>\n",
       "      <td>97.775</td>\n",
       "      <td>55.693</td>\n",
       "      <td>4.836</td>\n",
       "    </tr>\n",
       "    <tr>\n",
       "      <th>31905237</th>\n",
       "      <td>372</td>\n",
       "      <td>28.014</td>\n",
       "      <td>97.609</td>\n",
       "      <td>57.116</td>\n",
       "      <td>4.427</td>\n",
       "    </tr>\n",
       "    <tr>\n",
       "      <th>32445176</th>\n",
       "      <td>316</td>\n",
       "      <td>29.614</td>\n",
       "      <td>97.002</td>\n",
       "      <td>57.966</td>\n",
       "      <td>4.729</td>\n",
       "    </tr>\n",
       "  </tbody>\n",
       "</table>\n",
       "</div>"
      ],
      "text/plain": [
       "          Qty  OW_Mean  ACC_Mean  MCW_Mean  MCW_Std\n",
       "JOBNUM                                             \n",
       "31008488  325   29.840    96.520    59.353    3.951\n",
       "31046428  381   26.551    97.138    55.843    4.720\n",
       "31720175  383   27.234    97.775    55.693    4.836\n",
       "31905237  372   28.014    97.609    57.116    4.427\n",
       "32445176  316   29.614    97.002    57.966    4.729"
      ]
     },
     "execution_count": 82,
     "metadata": {},
     "output_type": "execute_result"
    }
   ],
   "source": [
    "summary_df.rename({'OW_R0_DB_COUNT': 'Qty',\n",
    "                  'OW_R0_DB_MEAN': 'OW_Mean',\n",
    "                  'PRED_ACC_CMR_MEAN': 'ACC_Mean',\n",
    "                  'WEW_R0_NM_MEAN': 'MCW_Mean',\n",
    "                  'WEW_R0_NM_STD': 'MCW_Std'}, axis=1, inplace=True)\n",
    "summary_df.head()"
   ]
  },
  {
   "cell_type": "code",
   "execution_count": 86,
   "metadata": {},
   "outputs": [],
   "source": [
    "summary_df.to_csv('summary_df.csv')"
   ]
  },
  {
   "cell_type": "code",
   "execution_count": 89,
   "metadata": {},
   "outputs": [
    {
     "ename": "ImportError",
     "evalue": "cannot import name 'DistanceMetric' from 'sklearn.metrics' (C:\\Users\\1000257489\\AppData\\Roaming\\Python\\Python37\\site-packages\\sklearn\\metrics\\__init__.py)",
     "output_type": "error",
     "traceback": [
      "\u001b[1;31m---------------------------------------------------------------------------\u001b[0m",
      "\u001b[1;31mImportError\u001b[0m                               Traceback (most recent call last)",
      "\u001b[1;32m~\\AppData\\Local\\Temp\\ipykernel_21496\\1045463850.py\u001b[0m in \u001b[0;36m<module>\u001b[1;34m\u001b[0m\n\u001b[1;32m----> 1\u001b[1;33m \u001b[1;32mfrom\u001b[0m \u001b[0msklearn\u001b[0m\u001b[1;33m.\u001b[0m\u001b[0mmetrics\u001b[0m \u001b[1;32mimport\u001b[0m \u001b[0mDistanceMetric\u001b[0m\u001b[1;33m\u001b[0m\u001b[1;33m\u001b[0m\u001b[0m\n\u001b[0m\u001b[0;32m      2\u001b[0m \u001b[1;33m\u001b[0m\u001b[0m\n\u001b[0;32m      3\u001b[0m \u001b[0mdist\u001b[0m \u001b[1;33m=\u001b[0m \u001b[0mDistanceMetric\u001b[0m\u001b[1;33m.\u001b[0m\u001b[0mget_metric\u001b[0m\u001b[1;33m(\u001b[0m\u001b[1;34m'euclidean'\u001b[0m\u001b[1;33m)\u001b[0m\u001b[1;33m\u001b[0m\u001b[1;33m\u001b[0m\u001b[0m\n\u001b[0;32m      4\u001b[0m \u001b[0mdist\u001b[0m\u001b[1;33m.\u001b[0m\u001b[0mpairwise\u001b[0m\u001b[1;33m(\u001b[0m\u001b[0msummary_df\u001b[0m\u001b[1;33m[\u001b[0m\u001b[1;33m[\u001b[0m\u001b[1;34m'OW_Mean'\u001b[0m\u001b[1;33m,\u001b[0m \u001b[1;34m'ACC_Mean'\u001b[0m\u001b[1;33m]\u001b[0m\u001b[1;33m]\u001b[0m\u001b[1;33m,\u001b[0m \u001b[1;33m[\u001b[0m\u001b[1;36m29\u001b[0m\u001b[1;33m,\u001b[0m \u001b[1;36m97\u001b[0m\u001b[1;33m]\u001b[0m\u001b[1;33m)\u001b[0m\u001b[1;33m\u001b[0m\u001b[1;33m\u001b[0m\u001b[0m\n",
      "\u001b[1;31mImportError\u001b[0m: cannot import name 'DistanceMetric' from 'sklearn.metrics' (C:\\Users\\1000257489\\AppData\\Roaming\\Python\\Python37\\site-packages\\sklearn\\metrics\\__init__.py)"
     ]
    }
   ],
   "source": [
    "from sklearn.metrics import DistanceMetric\n",
    "\n",
    "dist = DistanceMetric.get_metric('euclidean')\n",
    "dist.pairwise(summary_df[['OW_Mean', 'ACC_Mean']], [29, 97])"
   ]
  },
  {
   "cell_type": "code",
   "execution_count": 83,
   "metadata": {},
   "outputs": [],
   "source": [
    "# def Nor_transform(df, ow_mean=29, acc_mean=97):\n",
    "#     df_copy = df.copy(deep=True)\n",
    "#     df_copy['OW_Mean'] = (df_copy['OW_Mean'] - ow_mean)/df_copy['OW_Mean'].std()\n",
    "#     df_copy['ACC_Mean'] = (df_copy['ACC_Mean'] - acc_mean)/df_copy['ACC_Mean'].std()\n",
    "    \n",
    "#     return df_copy"
   ]
  },
  {
   "cell_type": "code",
   "execution_count": 84,
   "metadata": {
    "collapsed": true
   },
   "outputs": [
    {
     "data": {
      "text/html": [
       "<div>\n",
       "<style scoped>\n",
       "    .dataframe tbody tr th:only-of-type {\n",
       "        vertical-align: middle;\n",
       "    }\n",
       "\n",
       "    .dataframe tbody tr th {\n",
       "        vertical-align: top;\n",
       "    }\n",
       "\n",
       "    .dataframe thead th {\n",
       "        text-align: right;\n",
       "    }\n",
       "</style>\n",
       "<table border=\"1\" class=\"dataframe\">\n",
       "  <thead>\n",
       "    <tr style=\"text-align: right;\">\n",
       "      <th></th>\n",
       "      <th>Qty</th>\n",
       "      <th>OW_Mean</th>\n",
       "      <th>ACC_Mean</th>\n",
       "      <th>MCW_Mean</th>\n",
       "      <th>MCW_Std</th>\n",
       "    </tr>\n",
       "    <tr>\n",
       "      <th>JOBNUM</th>\n",
       "      <th></th>\n",
       "      <th></th>\n",
       "      <th></th>\n",
       "      <th></th>\n",
       "      <th></th>\n",
       "    </tr>\n",
       "  </thead>\n",
       "  <tbody>\n",
       "    <tr>\n",
       "      <th>31008488</th>\n",
       "      <td>325</td>\n",
       "      <td>0.476</td>\n",
       "      <td>-0.430</td>\n",
       "      <td>59.353</td>\n",
       "      <td>3.951</td>\n",
       "    </tr>\n",
       "    <tr>\n",
       "      <th>31046428</th>\n",
       "      <td>381</td>\n",
       "      <td>-1.388</td>\n",
       "      <td>0.123</td>\n",
       "      <td>55.843</td>\n",
       "      <td>4.720</td>\n",
       "    </tr>\n",
       "    <tr>\n",
       "      <th>31720175</th>\n",
       "      <td>383</td>\n",
       "      <td>-1.001</td>\n",
       "      <td>0.694</td>\n",
       "      <td>55.693</td>\n",
       "      <td>4.836</td>\n",
       "    </tr>\n",
       "    <tr>\n",
       "      <th>31905237</th>\n",
       "      <td>372</td>\n",
       "      <td>-0.559</td>\n",
       "      <td>0.545</td>\n",
       "      <td>57.116</td>\n",
       "      <td>4.427</td>\n",
       "    </tr>\n",
       "    <tr>\n",
       "      <th>32445176</th>\n",
       "      <td>316</td>\n",
       "      <td>0.348</td>\n",
       "      <td>0.001</td>\n",
       "      <td>57.966</td>\n",
       "      <td>4.729</td>\n",
       "    </tr>\n",
       "  </tbody>\n",
       "</table>\n",
       "</div>"
      ],
      "text/plain": [
       "          Qty  OW_Mean  ACC_Mean  MCW_Mean  MCW_Std\n",
       "JOBNUM                                             \n",
       "31008488  325    0.476    -0.430    59.353    3.951\n",
       "31046428  381   -1.388     0.123    55.843    4.720\n",
       "31720175  383   -1.001     0.694    55.693    4.836\n",
       "31905237  372   -0.559     0.545    57.116    4.427\n",
       "32445176  316    0.348     0.001    57.966    4.729"
      ]
     },
     "execution_count": 84,
     "metadata": {},
     "output_type": "execute_result"
    }
   ],
   "source": [
    "# summary_df_nor = Nor_transform(summary_df)\n",
    "# summary_df_nor.head()"
   ]
  }
 ],
 "metadata": {
  "kernelspec": {
   "display_name": "Python 3 (ipykernel)",
   "language": "python",
   "name": "python3"
  },
  "language_info": {
   "codemirror_mode": {
    "name": "ipython",
    "version": 3
   },
   "file_extension": ".py",
   "mimetype": "text/x-python",
   "name": "python",
   "nbconvert_exporter": "python",
   "pygments_lexer": "ipython3",
   "version": "3.9.12"
  }
 },
 "nbformat": 4,
 "nbformat_minor": 4
}
